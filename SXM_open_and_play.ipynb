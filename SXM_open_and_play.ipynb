{
 "cells": [
  {
   "cell_type": "code",
   "execution_count": null,
   "id": "61571b5f",
   "metadata": {},
   "outputs": [],
   "source": [
    "#Install all required libraries\n",
    "!pip install -r requirements.txt"
   ]
  },
  {
   "cell_type": "code",
   "execution_count": null,
   "id": "9f44455b",
   "metadata": {},
   "outputs": [],
   "source": [
    "#Clone the repo\n",
    "!git clone https://github.com/tipiorgup/SXM-filters.git"
   ]
  },
  {
   "cell_type": "code",
   "execution_count": null,
   "id": "f50a538b",
   "metadata": {},
   "outputs": [],
   "source": [
    "import os\n",
    "import sys\n",
    "import numpy as np\n",
    "import shutil\n",
    "try:\n",
    "    if os.path.exists('Data_SXM_filters'):\n",
    "        print(\"Found existing directory, attempting to remove...\")\n",
    "        shutil.rmtree('Data     _SXM_filters', ignore_errors=True)\n",
    "        print(\"Directory removed successfully\")\n",
    "    else:\n",
    "        print(\"Directory doesn't exist\")\n",
    "except Exception as e:\n",
    "    print(f\"Error while trying to remove directory: {e}\")"
   ]
  },
  {
   "cell_type": "code",
   "execution_count": null,
   "id": "1df62f6f",
   "metadata": {},
   "outputs": [],
   "source": [
    "path='Tutorial_SXM_filters'\n",
    "name='240314_Cu100039.sxm_processed_raw.png'\n",
    "file=os.path.join(path,name)\n",
    "\n"
   ]
  },
  {
   "cell_type": "code",
   "execution_count": null,
   "id": "92bfc580",
   "metadata": {},
   "outputs": [],
   "source": [
    "\n",
    "\n",
    "name='240308_Cu100022'\n",
    "        \n",
    "# Extract image data\n",
    "image = sxm_data[name]['img']\n",
    "\n",
    "# Plot the image\n",
    "im = imshow(image, cmap='viridis')\n",
    "    \n",
    "\n",
    "    \n",
    "plt.tight_layout()\n",
    "plt.suptitle('SXM Images Grid', fontsize=16, y=1.02)\n",
    "plt.show()\n",
    "\n"
   ]
  }
 ],
 "metadata": {
  "kernelspec": {
   "display_name": "Python 3",
   "language": "python",
   "name": "python3"
  },
  "language_info": {
   "name": "python",
   "version": "3.13.3"
  }
 },
 "nbformat": 4,
 "nbformat_minor": 5
}
