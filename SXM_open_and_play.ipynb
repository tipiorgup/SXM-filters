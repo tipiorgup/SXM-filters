{
  "cells": [
    {
      "cell_type": "code",
      "execution_count": 1,
      "id": "9f44455b",
      "metadata": {
        "colab": {
          "base_uri": "https://localhost:8080/"
        },
        "id": "9f44455b",
        "outputId": "e4ee7fb6-d922-4127-868d-b62383ea63de"
      },
      "outputs": [
        {
          "output_type": "stream",
          "name": "stdout",
          "text": [
            "Directory doesn't exist\n"
          ]
        }
      ],
      "source": [
        "import os\n",
        "import sys\n",
        "import shutil\n",
        "#Remove old data\n",
        "try:\n",
        "    if os.path.exists('SXM-filters'):\n",
        "        print(\"Found existing directory, attempting to remove...\")\n",
        "        shutil.rmtree('SXM-filters', ignore_errors=True)\n",
        "        print(\"Directory removed successfully\")\n",
        "    else:\n",
        "        print(\"Directory doesn't exist\")\n",
        "except Exception as e:\n",
        "    print(f\"Error while trying to remove directory: {e}\")\n",
        "\n"
      ]
    },
    {
      "cell_type": "code",
      "source": [
        "#Clone the repo\n",
        "!git clone https://github.com/tipiorgup/SXM-filters.git"
      ],
      "metadata": {
        "colab": {
          "base_uri": "https://localhost:8080/"
        },
        "id": "bUEXWP7UPHrP",
        "outputId": "d36a8603-7208-4109-ee09-7a2cc647d000"
      },
      "id": "bUEXWP7UPHrP",
      "execution_count": 2,
      "outputs": [
        {
          "output_type": "stream",
          "name": "stdout",
          "text": [
            "Cloning into 'SXM-filters'...\n",
            "remote: Enumerating objects: 59, done.\u001b[K\n",
            "remote: Counting objects: 100% (59/59), done.\u001b[K\n",
            "remote: Compressing objects: 100% (52/52), done.\u001b[K\n",
            "remote: Total 59 (delta 28), reused 15 (delta 4), pack-reused 0 (from 0)\u001b[K\n",
            "Receiving objects: 100% (59/59), 1.24 MiB | 11.83 MiB/s, done.\n",
            "Resolving deltas: 100% (28/28), done.\n"
          ]
        }
      ]
    },
    {
      "cell_type": "code",
      "source": [
        "# Update package list and install Python 3.10\n",
        "!apt-get update -qq\n",
        "!apt-get install -y software-properties-common\n",
        "!add-apt-repository ppa:deadsnakes/ppa -y\n",
        "!apt-get update -qq\n",
        "!apt-get install -y python3.10 python3.10-dev python3.10-venv python3.10-distutils\n",
        "\n",
        "# Verify installation\n",
        "!which python3.10\n",
        "!python3.10 --version"
      ],
      "metadata": {
        "colab": {
          "base_uri": "https://localhost:8080/"
        },
        "id": "3fo-YiuYMczD",
        "outputId": "7910a00a-4adc-4a52-8060-3629d00cb402"
      },
      "id": "3fo-YiuYMczD",
      "execution_count": 3,
      "outputs": [
        {
          "output_type": "stream",
          "name": "stdout",
          "text": [
            "W: Skipping acquire of configured file 'main/source/Sources' as repository 'https://r2u.stat.illinois.edu/ubuntu jammy InRelease' does not seem to provide it (sources.list entry misspelt?)\n",
            "Reading package lists... Done\n",
            "Building dependency tree... Done\n",
            "Reading state information... Done\n",
            "software-properties-common is already the newest version (0.99.22.9).\n",
            "0 upgraded, 0 newly installed, 0 to remove and 36 not upgraded.\n",
            "Repository: 'deb https://ppa.launchpadcontent.net/deadsnakes/ppa/ubuntu/ jammy main'\n",
            "Description:\n",
            "This PPA contains more recent Python versions packaged for Ubuntu.\n",
            "\n",
            "Disclaimer: there's no guarantee of timely updates in case of security problems or other issues. If you want to use them in a security-or-otherwise-critical environment (say, on a production server), you do so at your own risk.\n",
            "\n",
            "Update Note\n",
            "===========\n",
            "Please use this repository instead of ppa:fkrull/deadsnakes.\n",
            "\n",
            "Reporting Issues\n",
            "================\n",
            "\n",
            "Issues can be reported in the master issue tracker at:\n",
            "https://github.com/deadsnakes/issues/issues\n",
            "\n",
            "Supported Ubuntu and Python Versions\n",
            "====================================\n",
            "\n",
            "- Ubuntu 20.04 (focal) Python3.5 - Python3.7, Python3.9 - Python3.13\n",
            "- Ubuntu 22.04 (jammy) Python3.7 - Python3.9, Python3.11 - Python3.13\n",
            "- Ubuntu 24.04 (noble) Python3.7 - Python3.11, Python3.13\n",
            "- Note: Python2.7 (focal, jammy), Python 3.8 (focal), Python 3.10 (jammy), Python3.12 (noble) are not provided by deadsnakes as upstream ubuntu provides those packages.\n",
            "\n",
            "Why some packages aren't built:\n",
            "- Note: for focal, older python versions require libssl<1.1 so they are not currently built\n",
            "- Note: for jammy and noble, older python versions requre libssl<3 so they are not currently built\n",
            "- If you need these, reach out to asottile to set up a private ppa\n",
            "\n",
            "The packages may also work on other versions of Ubuntu or Debian, but that is not tested or supported.\n",
            "\n",
            "Packages\n",
            "========\n",
            "\n",
            "The packages provided here are loosely based on the debian upstream packages with some modifications to make them more usable as non-default pythons and on ubuntu.  As such, the packages follow debian's patterns and often do not include a full python distribution with just `apt install python#.#`.  Here is a list of packages that may be useful along with the default install:\n",
            "\n",
            "- `python#.#-dev`: includes development headers for building C extensions\n",
            "- `python#.#-venv`: provides the standard library `venv` module\n",
            "- `python#.#-distutils`: provides the standard library `distutils` module\n",
            "- `python#.#-lib2to3`: provides the `2to3-#.#` utility as well as the standard library `lib2to3` module\n",
            "- `python#.#-gdbm`: provides the standard library `dbm.gnu` module\n",
            "- `python#.#-tk`: provides the standard library `tkinter` module\n",
            "\n",
            "Third-Party Python Modules\n",
            "==========================\n",
            "\n",
            "Python modules in the official Ubuntu repositories are packaged to work with the Python interpreters from the official repositories. Accordingly, they generally won't work with the Python interpreters from this PPA. As an exception, pure-Python modules for Python 3 will work, but any compiled extension modules won't.\n",
            "\n",
            "To install 3rd-party Python modules, you should use the common Python packaging tools.  For an introduction into the Python packaging ecosystem and its tools, refer to the Python Packaging User Guide:\n",
            "https://packaging.python.org/installing/\n",
            "\n",
            "Sources\n",
            "=======\n",
            "The package sources are available at:\n",
            "https://github.com/deadsnakes/\n",
            "\n",
            "Nightly Builds\n",
            "==============\n",
            "\n",
            "For nightly builds, see ppa:deadsnakes/nightly https://launchpad.net/~deadsnakes/+archive/ubuntu/nightly\n",
            "More info: https://launchpad.net/~deadsnakes/+archive/ubuntu/ppa\n",
            "Adding repository.\n",
            "Found existing deb entry in /etc/apt/sources.list.d/deadsnakes-ubuntu-ppa-jammy.list\n",
            "Adding deb entry to /etc/apt/sources.list.d/deadsnakes-ubuntu-ppa-jammy.list\n",
            "Found existing deb-src entry in /etc/apt/sources.list.d/deadsnakes-ubuntu-ppa-jammy.list\n",
            "Adding disabled deb-src entry to /etc/apt/sources.list.d/deadsnakes-ubuntu-ppa-jammy.list\n",
            "Adding key to /etc/apt/trusted.gpg.d/deadsnakes-ubuntu-ppa.gpg with fingerprint F23C5A6CF475977595C89F51BA6932366A755776\n",
            "Hit:1 http://security.ubuntu.com/ubuntu jammy-security InRelease\n",
            "Hit:2 https://cloud.r-project.org/bin/linux/ubuntu jammy-cran40/ InRelease\n",
            "Hit:3 https://developer.download.nvidia.com/compute/cuda/repos/ubuntu2204/x86_64  InRelease\n",
            "Hit:4 http://archive.ubuntu.com/ubuntu jammy InRelease\n",
            "Hit:5 https://r2u.stat.illinois.edu/ubuntu jammy InRelease\n",
            "Hit:6 http://archive.ubuntu.com/ubuntu jammy-updates InRelease\n",
            "Hit:7 http://archive.ubuntu.com/ubuntu jammy-backports InRelease\n",
            "Hit:8 https://ppa.launchpadcontent.net/deadsnakes/ppa/ubuntu jammy InRelease\n",
            "Hit:9 https://ppa.launchpadcontent.net/graphics-drivers/ppa/ubuntu jammy InRelease\n",
            "Hit:10 https://ppa.launchpadcontent.net/ubuntugis/ppa/ubuntu jammy InRelease\n",
            "Reading package lists... Done\n",
            "W: Skipping acquire of configured file 'main/source/Sources' as repository 'https://r2u.stat.illinois.edu/ubuntu jammy InRelease' does not seem to provide it (sources.list entry misspelt?)\n",
            "W: Skipping acquire of configured file 'main/source/Sources' as repository 'https://r2u.stat.illinois.edu/ubuntu jammy InRelease' does not seem to provide it (sources.list entry misspelt?)\n",
            "Reading package lists... Done\n",
            "Building dependency tree... Done\n",
            "Reading state information... Done\n",
            "Note, selecting 'python3-distutils' instead of 'python3.10-distutils'\n",
            "python3-distutils is already the newest version (3.10.8-1~22.04).\n",
            "python3.10 is already the newest version (3.10.12-1~22.04.10).\n",
            "python3.10 set to manually installed.\n",
            "python3.10-dev is already the newest version (3.10.12-1~22.04.10).\n",
            "python3.10-dev set to manually installed.\n",
            "The following additional packages will be installed:\n",
            "  python3-pip-whl python3-setuptools-whl\n",
            "The following NEW packages will be installed:\n",
            "  python3-pip-whl python3-setuptools-whl python3.10-venv\n",
            "0 upgraded, 3 newly installed, 0 to remove and 36 not upgraded.\n",
            "Need to get 2,478 kB of archives.\n",
            "After this operation, 2,748 kB of additional disk space will be used.\n",
            "Get:1 http://archive.ubuntu.com/ubuntu jammy-updates/universe amd64 python3-pip-whl all 22.0.2+dfsg-1ubuntu0.6 [1,680 kB]\n",
            "Get:2 https://ppa.launchpadcontent.net/ubuntugis/ppa/ubuntu jammy/main amd64 python3-setuptools-whl all 68.1.2-2~jammy3 [792 kB]\n",
            "Get:3 http://archive.ubuntu.com/ubuntu jammy-updates/universe amd64 python3.10-venv amd64 3.10.12-1~22.04.10 [5,722 B]\n",
            "Fetched 2,478 kB in 1s (2,311 kB/s)\n",
            "Selecting previously unselected package python3-pip-whl.\n",
            "(Reading database ... 126284 files and directories currently installed.)\n",
            "Preparing to unpack .../python3-pip-whl_22.0.2+dfsg-1ubuntu0.6_all.deb ...\n",
            "Unpacking python3-pip-whl (22.0.2+dfsg-1ubuntu0.6) ...\n",
            "Selecting previously unselected package python3-setuptools-whl.\n",
            "Preparing to unpack .../python3-setuptools-whl_68.1.2-2~jammy3_all.deb ...\n",
            "Unpacking python3-setuptools-whl (68.1.2-2~jammy3) ...\n",
            "Selecting previously unselected package python3.10-venv.\n",
            "Preparing to unpack .../python3.10-venv_3.10.12-1~22.04.10_amd64.deb ...\n",
            "Unpacking python3.10-venv (3.10.12-1~22.04.10) ...\n",
            "Setting up python3-setuptools-whl (68.1.2-2~jammy3) ...\n",
            "Setting up python3-pip-whl (22.0.2+dfsg-1ubuntu0.6) ...\n",
            "Setting up python3.10-venv (3.10.12-1~22.04.10) ...\n",
            "/usr/bin/python3.10\n",
            "Python 3.10.12\n"
          ]
        }
      ]
    },
    {
      "cell_type": "code",
      "source": [
        "# Create virtual environment\n",
        "!python3.10 -m venv tutorial\n",
        "\n",
        "# Check if it was created\n",
        "!ls -la tutorial/\n",
        "\n",
        "# Activate and upgrade pip\n",
        "!tutorial/bin/python -m pip install --upgrade pip\n",
        "\n",
        "# Install from requirements.txt\n",
        "!tutorial/bin/pip install -r /content/SXM-filters/requirements.txt\n",
        "\n",
        "# Verify installation\n",
        "!tutorial/bin/python --version\n",
        "# !tutorial/bin/pip list"
      ],
      "metadata": {
        "colab": {
          "base_uri": "https://localhost:8080/"
        },
        "id": "Hg3N1OSgNUxS",
        "outputId": "fe0dee71-803a-4810-f728-af5cf4f4e1a7"
      },
      "id": "Hg3N1OSgNUxS",
      "execution_count": 9,
      "outputs": [
        {
          "output_type": "stream",
          "name": "stdout",
          "text": [
            "total 24\n",
            "drwxr-xr-x 5 root root 4096 Aug  3 14:57 .\n",
            "drwxr-xr-x 6 root root 4096 Aug  3 14:57 ..\n",
            "drwxr-xr-x 2 root root 4096 Aug  3 14:57 bin\n",
            "drwxr-xr-x 2 root root 4096 Aug  3 14:57 include\n",
            "drwxr-xr-x 3 root root 4096 Aug  3 14:57 lib\n",
            "lrwxrwxrwx 1 root root    3 Aug  3 14:57 lib64 -> lib\n",
            "-rw-r--r-- 1 root root   71 Aug  3 14:57 pyvenv.cfg\n",
            "Requirement already satisfied: pip in ./tutorial/lib/python3.10/site-packages (22.0.2)\n",
            "Collecting pip\n",
            "  Using cached pip-25.2-py3-none-any.whl (1.8 MB)\n",
            "Installing collected packages: pip\n",
            "  Attempting uninstall: pip\n",
            "    Found existing installation: pip 22.0.2\n",
            "    Uninstalling pip-22.0.2:\n",
            "      Successfully uninstalled pip-22.0.2\n",
            "Successfully installed pip-25.2\n",
            "Collecting asttokens==3.0.0 (from -r /content/SXM-filters/requirements.txt (line 1))\n",
            "  Using cached asttokens-3.0.0-py3-none-any.whl.metadata (4.7 kB)\n",
            "Collecting colorama==0.4.6 (from -r /content/SXM-filters/requirements.txt (line 2))\n",
            "  Using cached colorama-0.4.6-py2.py3-none-any.whl.metadata (17 kB)\n",
            "Collecting comm==0.2.2 (from -r /content/SXM-filters/requirements.txt (line 3))\n",
            "  Using cached comm-0.2.2-py3-none-any.whl.metadata (3.7 kB)\n",
            "Collecting contourpy==1.3.2 (from -r /content/SXM-filters/requirements.txt (line 4))\n",
            "  Using cached contourpy-1.3.2-cp310-cp310-manylinux_2_17_x86_64.manylinux2014_x86_64.whl.metadata (5.5 kB)\n",
            "Collecting cycler==0.12.1 (from -r /content/SXM-filters/requirements.txt (line 5))\n",
            "  Using cached cycler-0.12.1-py3-none-any.whl.metadata (3.8 kB)\n",
            "Collecting debugpy==1.8.14 (from -r /content/SXM-filters/requirements.txt (line 6))\n",
            "  Using cached debugpy-1.8.14-cp310-cp310-manylinux_2_5_x86_64.manylinux1_x86_64.manylinux_2_17_x86_64.manylinux2014_x86_64.whl.metadata (1.3 kB)\n",
            "Collecting decorator==5.2.1 (from -r /content/SXM-filters/requirements.txt (line 7))\n",
            "  Using cached decorator-5.2.1-py3-none-any.whl.metadata (3.9 kB)\n",
            "Collecting executing==2.2.0 (from -r /content/SXM-filters/requirements.txt (line 8))\n",
            "  Using cached executing-2.2.0-py2.py3-none-any.whl.metadata (8.9 kB)\n",
            "Collecting filelock==3.13.1 (from -r /content/SXM-filters/requirements.txt (line 9))\n",
            "  Using cached filelock-3.13.1-py3-none-any.whl.metadata (2.8 kB)\n",
            "Collecting fonttools==4.58.5 (from -r /content/SXM-filters/requirements.txt (line 10))\n",
            "  Using cached fonttools-4.58.5-cp310-cp310-manylinux2014_x86_64.manylinux_2_17_x86_64.whl.metadata (106 kB)\n",
            "Collecting fsspec==2024.6.1 (from -r /content/SXM-filters/requirements.txt (line 11))\n",
            "  Using cached fsspec-2024.6.1-py3-none-any.whl.metadata (11 kB)\n",
            "Collecting ipykernel==6.29.5 (from -r /content/SXM-filters/requirements.txt (line 12))\n",
            "  Using cached ipykernel-6.29.5-py3-none-any.whl.metadata (6.3 kB)\n",
            "Collecting ipython (from -r /content/SXM-filters/requirements.txt (line 13))\n",
            "  Using cached ipython-8.37.0-py3-none-any.whl.metadata (5.1 kB)\n",
            "Collecting ipython_pygments_lexers==1.1.1 (from -r /content/SXM-filters/requirements.txt (line 14))\n",
            "  Using cached ipython_pygments_lexers-1.1.1-py3-none-any.whl.metadata (1.1 kB)\n",
            "Collecting jedi==0.19.2 (from -r /content/SXM-filters/requirements.txt (line 15))\n",
            "  Using cached jedi-0.19.2-py2.py3-none-any.whl.metadata (22 kB)\n",
            "Collecting Jinja2==3.1.4 (from -r /content/SXM-filters/requirements.txt (line 16))\n",
            "  Using cached jinja2-3.1.4-py3-none-any.whl.metadata (2.6 kB)\n",
            "Collecting joblib==1.5.1 (from -r /content/SXM-filters/requirements.txt (line 17))\n",
            "  Using cached joblib-1.5.1-py3-none-any.whl.metadata (5.6 kB)\n",
            "Collecting jupyter_client==8.6.3 (from -r /content/SXM-filters/requirements.txt (line 18))\n",
            "  Using cached jupyter_client-8.6.3-py3-none-any.whl.metadata (8.3 kB)\n",
            "Collecting jupyter_core==5.8.1 (from -r /content/SXM-filters/requirements.txt (line 19))\n",
            "  Using cached jupyter_core-5.8.1-py3-none-any.whl.metadata (1.6 kB)\n",
            "Collecting kiwisolver==1.4.8 (from -r /content/SXM-filters/requirements.txt (line 20))\n",
            "  Using cached kiwisolver-1.4.8-cp310-cp310-manylinux_2_12_x86_64.manylinux2010_x86_64.whl.metadata (6.2 kB)\n",
            "Collecting MarkupSafe==2.1.5 (from -r /content/SXM-filters/requirements.txt (line 21))\n",
            "  Using cached MarkupSafe-2.1.5-cp310-cp310-manylinux_2_17_x86_64.manylinux2014_x86_64.whl.metadata (3.0 kB)\n",
            "Collecting matplotlib==3.10.3 (from -r /content/SXM-filters/requirements.txt (line 22))\n",
            "  Using cached matplotlib-3.10.3-cp310-cp310-manylinux_2_17_x86_64.manylinux2014_x86_64.whl.metadata (11 kB)\n",
            "Collecting matplotlib-inline==0.1.7 (from -r /content/SXM-filters/requirements.txt (line 23))\n",
            "  Using cached matplotlib_inline-0.1.7-py3-none-any.whl.metadata (3.9 kB)\n",
            "Collecting mpmath==1.3.0 (from -r /content/SXM-filters/requirements.txt (line 24))\n",
            "  Using cached mpmath-1.3.0-py3-none-any.whl.metadata (8.6 kB)\n",
            "Collecting nest-asyncio==1.6.0 (from -r /content/SXM-filters/requirements.txt (line 25))\n",
            "  Using cached nest_asyncio-1.6.0-py3-none-any.whl.metadata (2.8 kB)\n",
            "Collecting networkx==3.3 (from -r /content/SXM-filters/requirements.txt (line 26))\n",
            "  Using cached networkx-3.3-py3-none-any.whl.metadata (5.1 kB)\n",
            "Collecting numpy==2.2.6 (from -r /content/SXM-filters/requirements.txt (line 27))\n",
            "  Using cached numpy-2.2.6-cp310-cp310-manylinux_2_17_x86_64.manylinux2014_x86_64.whl.metadata (62 kB)\n",
            "Collecting opencv-python==4.12.0.88 (from -r /content/SXM-filters/requirements.txt (line 28))\n",
            "  Using cached opencv_python-4.12.0.88-cp37-abi3-manylinux2014_x86_64.manylinux_2_17_x86_64.whl.metadata (19 kB)\n",
            "Collecting packaging==25.0 (from -r /content/SXM-filters/requirements.txt (line 29))\n",
            "  Using cached packaging-25.0-py3-none-any.whl.metadata (3.3 kB)\n",
            "Collecting parso==0.8.4 (from -r /content/SXM-filters/requirements.txt (line 30))\n",
            "  Using cached parso-0.8.4-py2.py3-none-any.whl.metadata (7.7 kB)\n",
            "Collecting pillow==11.0.0 (from -r /content/SXM-filters/requirements.txt (line 31))\n",
            "  Using cached pillow-11.0.0-cp310-cp310-manylinux_2_28_x86_64.whl.metadata (9.1 kB)\n",
            "Collecting platformdirs==4.3.8 (from -r /content/SXM-filters/requirements.txt (line 32))\n",
            "  Using cached platformdirs-4.3.8-py3-none-any.whl.metadata (12 kB)\n",
            "Collecting prompt_toolkit==3.0.51 (from -r /content/SXM-filters/requirements.txt (line 33))\n",
            "  Using cached prompt_toolkit-3.0.51-py3-none-any.whl.metadata (6.4 kB)\n",
            "Collecting psutil==7.0.0 (from -r /content/SXM-filters/requirements.txt (line 34))\n",
            "  Using cached psutil-7.0.0-cp36-abi3-manylinux_2_12_x86_64.manylinux2010_x86_64.manylinux_2_17_x86_64.manylinux2014_x86_64.whl.metadata (22 kB)\n",
            "Collecting pure_eval==0.2.3 (from -r /content/SXM-filters/requirements.txt (line 35))\n",
            "  Using cached pure_eval-0.2.3-py3-none-any.whl.metadata (6.3 kB)\n",
            "Collecting Pygments==2.19.2 (from -r /content/SXM-filters/requirements.txt (line 36))\n",
            "  Using cached pygments-2.19.2-py3-none-any.whl.metadata (2.5 kB)\n",
            "Collecting pyparsing==3.2.3 (from -r /content/SXM-filters/requirements.txt (line 37))\n",
            "  Using cached pyparsing-3.2.3-py3-none-any.whl.metadata (5.0 kB)\n",
            "Collecting python-dateutil==2.9.0.post0 (from -r /content/SXM-filters/requirements.txt (line 38))\n",
            "  Using cached python_dateutil-2.9.0.post0-py2.py3-none-any.whl.metadata (8.4 kB)\n",
            "Collecting pyzmq==27.0.0 (from -r /content/SXM-filters/requirements.txt (line 40))\n",
            "  Using cached pyzmq-27.0.0-cp310-cp310-manylinux_2_27_x86_64.manylinux_2_28_x86_64.whl.metadata (6.0 kB)\n",
            "Collecting scikit-learn==1.7.0 (from -r /content/SXM-filters/requirements.txt (line 41))\n",
            "  Using cached scikit_learn-1.7.0-cp310-cp310-manylinux_2_17_x86_64.manylinux2014_x86_64.whl.metadata (17 kB)\n",
            "Collecting scipy<1.16.0,>=1.15.0 (from -r /content/SXM-filters/requirements.txt (line 42))\n",
            "  Using cached scipy-1.15.3-cp310-cp310-manylinux_2_17_x86_64.manylinux2014_x86_64.whl.metadata (61 kB)\n",
            "Collecting setuptools==70.2.0 (from -r /content/SXM-filters/requirements.txt (line 43))\n",
            "  Using cached setuptools-70.2.0-py3-none-any.whl.metadata (5.8 kB)\n",
            "Collecting six==1.17.0 (from -r /content/SXM-filters/requirements.txt (line 44))\n",
            "  Using cached six-1.17.0-py2.py3-none-any.whl.metadata (1.7 kB)\n",
            "Collecting stack-data==0.6.3 (from -r /content/SXM-filters/requirements.txt (line 45))\n",
            "  Using cached stack_data-0.6.3-py3-none-any.whl.metadata (18 kB)\n",
            "Collecting sympy==1.13.3 (from -r /content/SXM-filters/requirements.txt (line 46))\n",
            "  Using cached sympy-1.13.3-py3-none-any.whl.metadata (12 kB)\n",
            "Collecting threadpoolctl==3.6.0 (from -r /content/SXM-filters/requirements.txt (line 47))\n",
            "  Using cached threadpoolctl-3.6.0-py3-none-any.whl.metadata (13 kB)\n",
            "Collecting tornado==6.5.1 (from -r /content/SXM-filters/requirements.txt (line 48))\n",
            "  Using cached tornado-6.5.1-cp39-abi3-manylinux_2_5_x86_64.manylinux1_x86_64.manylinux_2_17_x86_64.manylinux2014_x86_64.whl.metadata (2.8 kB)\n",
            "Collecting traitlets==5.14.3 (from -r /content/SXM-filters/requirements.txt (line 49))\n",
            "  Using cached traitlets-5.14.3-py3-none-any.whl.metadata (10 kB)\n",
            "Collecting typing_extensions==4.12.2 (from -r /content/SXM-filters/requirements.txt (line 50))\n",
            "  Using cached typing_extensions-4.12.2-py3-none-any.whl.metadata (3.0 kB)\n",
            "Collecting wcwidth==0.2.13 (from -r /content/SXM-filters/requirements.txt (line 51))\n",
            "  Using cached wcwidth-0.2.13-py2.py3-none-any.whl.metadata (14 kB)\n",
            "Collecting exceptiongroup (from ipython->-r /content/SXM-filters/requirements.txt (line 13))\n",
            "  Using cached exceptiongroup-1.3.0-py3-none-any.whl.metadata (6.7 kB)\n",
            "Collecting pexpect>4.3 (from ipython->-r /content/SXM-filters/requirements.txt (line 13))\n",
            "  Using cached pexpect-4.9.0-py2.py3-none-any.whl.metadata (2.5 kB)\n",
            "Collecting ptyprocess>=0.5 (from pexpect>4.3->ipython->-r /content/SXM-filters/requirements.txt (line 13))\n",
            "  Using cached ptyprocess-0.7.0-py2.py3-none-any.whl.metadata (1.3 kB)\n",
            "Using cached asttokens-3.0.0-py3-none-any.whl (26 kB)\n",
            "Using cached colorama-0.4.6-py2.py3-none-any.whl (25 kB)\n",
            "Using cached comm-0.2.2-py3-none-any.whl (7.2 kB)\n",
            "Using cached contourpy-1.3.2-cp310-cp310-manylinux_2_17_x86_64.manylinux2014_x86_64.whl (325 kB)\n",
            "Using cached cycler-0.12.1-py3-none-any.whl (8.3 kB)\n",
            "Using cached debugpy-1.8.14-cp310-cp310-manylinux_2_5_x86_64.manylinux1_x86_64.manylinux_2_17_x86_64.manylinux2014_x86_64.whl (3.6 MB)\n",
            "Using cached decorator-5.2.1-py3-none-any.whl (9.2 kB)\n",
            "Using cached executing-2.2.0-py2.py3-none-any.whl (26 kB)\n",
            "Using cached filelock-3.13.1-py3-none-any.whl (11 kB)\n",
            "Using cached fonttools-4.58.5-cp310-cp310-manylinux2014_x86_64.manylinux_2_17_x86_64.whl (4.8 MB)\n",
            "Using cached fsspec-2024.6.1-py3-none-any.whl (177 kB)\n",
            "Using cached ipykernel-6.29.5-py3-none-any.whl (117 kB)\n",
            "Using cached ipython_pygments_lexers-1.1.1-py3-none-any.whl (8.1 kB)\n",
            "Using cached jedi-0.19.2-py2.py3-none-any.whl (1.6 MB)\n",
            "Using cached parso-0.8.4-py2.py3-none-any.whl (103 kB)\n",
            "Using cached jinja2-3.1.4-py3-none-any.whl (133 kB)\n",
            "Using cached joblib-1.5.1-py3-none-any.whl (307 kB)\n",
            "Using cached jupyter_client-8.6.3-py3-none-any.whl (106 kB)\n",
            "Using cached jupyter_core-5.8.1-py3-none-any.whl (28 kB)\n",
            "Using cached kiwisolver-1.4.8-cp310-cp310-manylinux_2_12_x86_64.manylinux2010_x86_64.whl (1.6 MB)\n",
            "Using cached MarkupSafe-2.1.5-cp310-cp310-manylinux_2_17_x86_64.manylinux2014_x86_64.whl (25 kB)\n",
            "Using cached matplotlib-3.10.3-cp310-cp310-manylinux_2_17_x86_64.manylinux2014_x86_64.whl (8.6 MB)\n",
            "Using cached matplotlib_inline-0.1.7-py3-none-any.whl (9.9 kB)\n",
            "Using cached mpmath-1.3.0-py3-none-any.whl (536 kB)\n",
            "Using cached nest_asyncio-1.6.0-py3-none-any.whl (5.2 kB)\n",
            "Using cached networkx-3.3-py3-none-any.whl (1.7 MB)\n",
            "Using cached numpy-2.2.6-cp310-cp310-manylinux_2_17_x86_64.manylinux2014_x86_64.whl (16.8 MB)\n",
            "Using cached opencv_python-4.12.0.88-cp37-abi3-manylinux2014_x86_64.manylinux_2_17_x86_64.whl (67.0 MB)\n",
            "Using cached packaging-25.0-py3-none-any.whl (66 kB)\n",
            "Using cached pillow-11.0.0-cp310-cp310-manylinux_2_28_x86_64.whl (4.4 MB)\n",
            "Using cached platformdirs-4.3.8-py3-none-any.whl (18 kB)\n",
            "Using cached prompt_toolkit-3.0.51-py3-none-any.whl (387 kB)\n",
            "Using cached psutil-7.0.0-cp36-abi3-manylinux_2_12_x86_64.manylinux2010_x86_64.manylinux_2_17_x86_64.manylinux2014_x86_64.whl (277 kB)\n",
            "Using cached pure_eval-0.2.3-py3-none-any.whl (11 kB)\n",
            "Using cached pygments-2.19.2-py3-none-any.whl (1.2 MB)\n",
            "Using cached pyparsing-3.2.3-py3-none-any.whl (111 kB)\n",
            "Using cached python_dateutil-2.9.0.post0-py2.py3-none-any.whl (229 kB)\n",
            "Using cached pyzmq-27.0.0-cp310-cp310-manylinux_2_27_x86_64.manylinux_2_28_x86_64.whl (853 kB)\n",
            "Using cached scikit_learn-1.7.0-cp310-cp310-manylinux_2_17_x86_64.manylinux2014_x86_64.whl (12.9 MB)\n",
            "Using cached setuptools-70.2.0-py3-none-any.whl (930 kB)\n",
            "Using cached six-1.17.0-py2.py3-none-any.whl (11 kB)\n",
            "Using cached stack_data-0.6.3-py3-none-any.whl (24 kB)\n",
            "Using cached sympy-1.13.3-py3-none-any.whl (6.2 MB)\n",
            "Using cached threadpoolctl-3.6.0-py3-none-any.whl (18 kB)\n",
            "Using cached tornado-6.5.1-cp39-abi3-manylinux_2_5_x86_64.manylinux1_x86_64.manylinux_2_17_x86_64.manylinux2014_x86_64.whl (443 kB)\n",
            "Using cached traitlets-5.14.3-py3-none-any.whl (85 kB)\n",
            "Using cached typing_extensions-4.12.2-py3-none-any.whl (37 kB)\n",
            "Using cached wcwidth-0.2.13-py2.py3-none-any.whl (34 kB)\n",
            "Using cached scipy-1.15.3-cp310-cp310-manylinux_2_17_x86_64.manylinux2014_x86_64.whl (37.7 MB)\n",
            "Using cached ipython-8.37.0-py3-none-any.whl (831 kB)\n",
            "Using cached pexpect-4.9.0-py2.py3-none-any.whl (63 kB)\n",
            "Using cached ptyprocess-0.7.0-py2.py3-none-any.whl (13 kB)\n",
            "Using cached exceptiongroup-1.3.0-py3-none-any.whl (16 kB)\n",
            "Installing collected packages: wcwidth, pure_eval, ptyprocess, mpmath, typing_extensions, traitlets, tornado, threadpoolctl, sympy, six, setuptools, pyzmq, pyparsing, Pygments, psutil, prompt_toolkit, platformdirs, pillow, pexpect, parso, packaging, numpy, networkx, nest-asyncio, MarkupSafe, kiwisolver, joblib, fsspec, fonttools, filelock, executing, decorator, debugpy, cycler, colorama, asttokens, stack-data, scipy, python-dateutil, opencv-python, matplotlib-inline, jupyter_core, Jinja2, jedi, ipython_pygments_lexers, exceptiongroup, contourpy, comm, scikit-learn, matplotlib, jupyter_client, ipython, ipykernel\n",
            "\u001b[2K  Attempting uninstall: setuptools\n",
            "\u001b[2K    Found existing installation: setuptools 68.1.2\n",
            "\u001b[2K    Uninstalling setuptools-68.1.2:\n",
            "\u001b[2K      Successfully uninstalled setuptools-68.1.2\n",
            "\u001b[2K   \u001b[90m━━━━━━━━━━━━━━━━━━━━━━━━━━━━━━━━━━━━━━━━\u001b[0m \u001b[32m53/53\u001b[0m [ipykernel]\n",
            "\u001b[1A\u001b[2KSuccessfully installed Jinja2-3.1.4 MarkupSafe-2.1.5 Pygments-2.19.2 asttokens-3.0.0 colorama-0.4.6 comm-0.2.2 contourpy-1.3.2 cycler-0.12.1 debugpy-1.8.14 decorator-5.2.1 exceptiongroup-1.3.0 executing-2.2.0 filelock-3.13.1 fonttools-4.58.5 fsspec-2024.6.1 ipykernel-6.29.5 ipython-8.37.0 ipython_pygments_lexers-1.1.1 jedi-0.19.2 joblib-1.5.1 jupyter_client-8.6.3 jupyter_core-5.8.1 kiwisolver-1.4.8 matplotlib-3.10.3 matplotlib-inline-0.1.7 mpmath-1.3.0 nest-asyncio-1.6.0 networkx-3.3 numpy-2.2.6 opencv-python-4.12.0.88 packaging-25.0 parso-0.8.4 pexpect-4.9.0 pillow-11.0.0 platformdirs-4.3.8 prompt_toolkit-3.0.51 psutil-7.0.0 ptyprocess-0.7.0 pure_eval-0.2.3 pyparsing-3.2.3 python-dateutil-2.9.0.post0 pyzmq-27.0.0 scikit-learn-1.7.0 scipy-1.15.3 setuptools-70.2.0 six-1.17.0 stack-data-0.6.3 sympy-1.13.3 threadpoolctl-3.6.0 tornado-6.5.1 traitlets-5.14.3 typing_extensions-4.12.2 wcwidth-0.2.13\n",
            "Python 3.10.12\n"
          ]
        }
      ]
    },
    {
      "cell_type": "code",
      "source": [
        "os.chdir('/content/SXM-filters')"
      ],
      "metadata": {
        "id": "9TKIhistSU8Z"
      },
      "id": "9TKIhistSU8Z",
      "execution_count": 11,
      "outputs": []
    },
    {
      "cell_type": "code",
      "source": [
        "from src.sxm_loader import *"
      ],
      "metadata": {
        "id": "JrfBO2qxcYGe"
      },
      "id": "JrfBO2qxcYGe",
      "execution_count": 12,
      "outputs": []
    },
    {
      "cell_type": "code",
      "execution_count": 13,
      "id": "1df62f6f",
      "metadata": {
        "id": "1df62f6f"
      },
      "outputs": [],
      "source": [
        "path='/content/SXM-filters/Data_SXM_filters'\n",
        "name='240314_Cu100039.sxm'\n"
      ]
    },
    {
      "cell_type": "code",
      "source": [
        " load_sxm_file(os.path.join(path,name))"
      ],
      "metadata": {
        "id": "q6rRona8cLWX",
        "colab": {
          "base_uri": "https://localhost:8080/"
        },
        "outputId": "4f739deb-b95b-4b71-a7dd-f025a1f18e9b"
      },
      "id": "q6rRona8cLWX",
      "execution_count": 14,
      "outputs": [
        {
          "output_type": "stream",
          "name": "stdout",
          "text": [
            "Cannot open /content/SXM-filters/Data_SXM_filters/240314_Cu100039.sxm\n"
          ]
        }
      ]
    },
    {
      "cell_type": "code",
      "source": [
        "import nanoispu"
      ],
      "metadata": {
        "id": "Qb1u3-p_cNft"
      },
      "id": "Qb1u3-p_cNft",
      "execution_count": 8,
      "outputs": []
    }
  ],
  "metadata": {
    "kernelspec": {
      "display_name": "Python 3",
      "language": "python",
      "name": "python3"
    },
    "language_info": {
      "name": "python",
      "version": "3.13.3"
    },
    "colab": {
      "provenance": []
    }
  },
  "nbformat": 4,
  "nbformat_minor": 5
}