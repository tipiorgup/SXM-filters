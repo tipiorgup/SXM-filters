{
  "cells": [
    {
      "cell_type": "markdown",
      "metadata": {
        "id": "view-in-github",
        "colab_type": "text"
      },
      "source": [
        "<a href=\"https://colab.research.google.com/github/tipiorgup/SXM-filters/blob/main/SXM_open_and_play.ipynb\" target=\"_parent\"><img src=\"https://colab.research.google.com/assets/colab-badge.svg\" alt=\"Open In Colab\"/></a>"
      ]
    },
    {
      "cell_type": "code",
      "execution_count": 5,
      "id": "61571b5f",
      "metadata": {
        "id": "61571b5f",
        "outputId": "1a093d57-96d0-485e-a2cc-3c27d87d6dce",
        "colab": {
          "base_uri": "https://localhost:8080/"
        }
      },
      "outputs": [
        {
          "output_type": "stream",
          "name": "stdout",
          "text": [
            "\u001b[31mERROR: Could not open requirements file: [Errno 2] No such file or directory: 'requirements.txt'\u001b[0m\u001b[31m\n",
            "\u001b[0m"
          ]
        }
      ],
      "source": [
        "#Install all required libraries\n",
        "!pip install -r requirements.txt"
      ]
    },
    {
      "cell_type": "code",
      "execution_count": 6,
      "id": "9f44455b",
      "metadata": {
        "id": "9f44455b",
        "outputId": "f276e9b7-a31d-4459-d0ac-946b9a2c928b",
        "colab": {
          "base_uri": "https://localhost:8080/"
        }
      },
      "outputs": [
        {
          "output_type": "stream",
          "name": "stdout",
          "text": [
            "fatal: destination path 'SXM-filters' already exists and is not an empty directory.\n"
          ]
        }
      ],
      "source": [
        "#Clone the repo\n",
        "!git clone https://github.com/tipiorgup/SXM-filters.git"
      ]
    },
    {
      "cell_type": "code",
      "execution_count": null,
      "id": "f50a538b",
      "metadata": {
        "id": "f50a538b"
      },
      "outputs": [],
      "source": [
        "import os\n",
        "import sys\n",
        "import numpy as np\n",
        "import shutil\n",
        "try:\n",
        "    if os.path.exists('Tutorial_SXM_filters'):\n",
        "        print(\"Found existing directory, attempting to remove...\")\n",
        "        shutil.rmtree('Tutorial_SXM_filters', ignore_errors=True)\n",
        "        print(\"Directory removed successfully\")\n",
        "    else:\n",
        "        print(\"Directory doesn't exist\")\n",
        "except Exception as e:\n",
        "    print(f\"Error while trying to remove directory: {e}\")"
      ]
    },
    {
      "cell_type": "code",
      "execution_count": null,
      "id": "1df62f6f",
      "metadata": {
        "id": "1df62f6f"
      },
      "outputs": [],
      "source": [
        "path='Tutorial_SXM_filters'\n",
        "name='240314_Cu100039.sxm_processed_raw.png'\n",
        "file=os.path.join(path,name)\n",
        "\n"
      ]
    },
    {
      "cell_type": "code",
      "execution_count": null,
      "id": "92bfc580",
      "metadata": {
        "id": "92bfc580"
      },
      "outputs": [],
      "source": [
        "\n",
        "\n",
        "name='240308_Cu100022'\n",
        "\n",
        "# Extract image data\n",
        "image = sxm_data[name]['img']\n",
        "\n",
        "# Plot the image\n",
        "im = imshow(image, cmap='viridis')\n",
        "\n",
        "\n",
        "\n",
        "plt.tight_layout()\n",
        "plt.suptitle('SXM Images Grid', fontsize=16, y=1.02)\n",
        "plt.show()\n",
        "\n"
      ]
    }
  ],
  "metadata": {
    "kernelspec": {
      "display_name": "Python 3",
      "language": "python",
      "name": "python3"
    },
    "language_info": {
      "name": "python",
      "version": "3.13.3"
    },
    "colab": {
      "provenance": [],
      "include_colab_link": true
    }
  },
  "nbformat": 4,
  "nbformat_minor": 5
}