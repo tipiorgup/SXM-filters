{
  "cells": [
    {
      "cell_type": "code",
      "execution_count": 1,
      "id": "61571b5f",
      "metadata": {
        "colab": {
          "base_uri": "https://localhost:8080/"
        },
        "id": "61571b5f",
        "outputId": "7dec004b-30c0-4c35-a68a-a39a4bb1ceb6"
      },
      "outputs": [
        {
          "output_type": "stream",
          "name": "stdout",
          "text": [
            "Cloning into 'SXM-filters'...\n",
            "remote: Enumerating objects: 12, done.\u001b[K\n",
            "remote: Counting objects: 100% (12/12), done.\u001b[K\n",
            "remote: Compressing objects: 100% (9/9), done.\u001b[K\n",
            "remote: Total 12 (delta 0), reused 9 (delta 0), pack-reused 0 (from 0)\u001b[K\n",
            "Receiving objects: 100% (12/12), 1.22 MiB | 5.43 MiB/s, done.\n"
          ]
        }
      ],
      "source": [
        "#Clone the repo\n",
        "!git clone https://github.com/tipiorgup/SXM-filters.git"
      ]
    },
    {
      "cell_type": "code",
      "execution_count": 2,
      "id": "9f44455b",
      "metadata": {
        "colab": {
          "base_uri": "https://localhost:8080/"
        },
        "id": "9f44455b",
        "outputId": "4087a866-20d1-42d6-f856-104f4b9ebc9b"
      },
      "outputs": [
        {
          "output_type": "stream",
          "name": "stdout",
          "text": [
            "\u001b[31mERROR: Could not open requirements file: [Errno 2] No such file or directory: 'requirements.txt'\u001b[0m\u001b[31m\n",
            "\u001b[0m"
          ]
        }
      ],
      "source": [
        "#Install all required libraries\n",
        "!pip install -r requirements.txt"
      ]
    },
    {
      "cell_type": "code",
      "execution_count": null,
      "id": "f50a538b",
      "metadata": {
        "id": "f50a538b"
      },
      "outputs": [],
      "source": [
        "import os\n",
        "import sys\n",
        "import numpy as np\n",
        "import shutil\n",
        "try:\n",
        "    if os.path.exists('Tutorial_SXM_filters'):\n",
        "        print(\"Found existing directory, attempting to remove...\")\n",
        "        shutil.rmtree('Tutorial_SXM_filters', ignore_errors=True)\n",
        "        print(\"Directory removed successfully\")\n",
        "    else:\n",
        "        print(\"Directory doesn't exist\")\n",
        "except Exception as e:\n",
        "    print(f\"Error while trying to remove directory: {e}\")"
      ]
    },
    {
      "cell_type": "code",
      "execution_count": null,
      "id": "1df62f6f",
      "metadata": {
        "id": "1df62f6f"
      },
      "outputs": [],
      "source": [
        "path='Tutorial_SXM_filters'\n",
        "name='240314_Cu100039.sxm_processed_raw.png'\n",
        "file=os.path.join(path,name)\n",
        "\n"
      ]
    },
    {
      "cell_type": "code",
      "execution_count": null,
      "id": "92bfc580",
      "metadata": {
        "id": "92bfc580"
      },
      "outputs": [],
      "source": [
        "\n",
        "\n",
        "name='240308_Cu100022'\n",
        "\n",
        "# Extract image data\n",
        "image = sxm_data[name]['img']\n",
        "\n",
        "# Plot the image\n",
        "im = imshow(image, cmap='viridis')\n",
        "\n",
        "\n",
        "\n",
        "plt.tight_layout()\n",
        "plt.suptitle('SXM Images Grid', fontsize=16, y=1.02)\n",
        "plt.show()\n",
        "\n"
      ]
    }
  ],
  "metadata": {
    "kernelspec": {
      "display_name": "Python 3",
      "language": "python",
      "name": "python3"
    },
    "language_info": {
      "name": "python",
      "version": "3.13.3"
    },
    "colab": {
      "provenance": []
    }
  },
  "nbformat": 4,
  "nbformat_minor": 5
}